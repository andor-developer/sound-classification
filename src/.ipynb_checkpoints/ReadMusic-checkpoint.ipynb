{
 "cells": [
  {
   "cell_type": "markdown",
   "metadata": {},
   "source": [
    "# Detecting Sound Interference with Tensorflow for Hangout Sessions\n",
    "\n",
    "In this analysis, we look at sound interference from multiple hangout streams using google hangout. We train and test the data using a neural network.\n",
    "The goal of this network is to give Google the functionality to enable a \"mute\" action is multiple audio streams occur on the hangouts at the same time. Frequently, when my colleagues and myself use hangouts, we log in at the same time with our computer. The problem is that multiple microphones on at the same time create an issue with loud feedback loops that greatly disrupt a meeting. Furthermore, often it is difficult to determine which of the incoming channels is responsible for disturbing the audio system. \n",
    "We are not audio processing experts, but hope that this simple neural network may provide enough of a baseline to accurately detect multiple audio feedback loops. It would be our hope that it would enable an \"action\" on Google's side, to mute the interefering audio system and prompt a warning. "
   ]
  },
  {
   "cell_type": "markdown",
   "metadata": {},
   "source": [
    "Which type of Classifier do we use? SVM or NN?"
   ]
  },
  {
   "cell_type": "code",
   "execution_count": 111,
   "metadata": {
    "collapsed": true
   },
   "outputs": [],
   "source": [
    "from pylab import*\n",
    "from scipy.io import wavfile\n",
    "import matplotlib\n",
    "import matplotlib.pyplot as plt\n",
    "import random"
   ]
  },
  {
   "cell_type": "code",
   "execution_count": 102,
   "metadata": {
    "collapsed": false
   },
   "outputs": [
    {
     "name": "stdout",
     "output_type": "stream",
     "text": [
      "Sample Frequency is 44100 and sample type is int16\n",
      "(2395137, 2)\n",
      "The duration of the audio file is 54.31149659863946 ms\n"
     ]
    }
   ],
   "source": [
    "sampleFreq, sample = wavfile.read('/Users/andorkesselman/Desktop/sample.wav')\n",
    "print('Sample Frequency is' , sampleFreq, 'and sample type is', sample.dtype)\n",
    "sample = sample / (2.**15) #normalize and center\n",
    "print(sample.shape)\n",
    "print('The duration of the audio file is' , (len(sample) / sampleFreq),  'ms') # find the duration \n",
    "ch1 = sample[:,0] #take one channel. There are two channels in this scenario"
   ]
  },
  {
   "cell_type": "code",
   "execution_count": 96,
   "metadata": {
    "collapsed": false
   },
   "outputs": [
    {
     "name": "stdout",
     "output_type": "stream",
     "text": [
      "[  0.00000000e+00   2.26757370e-05   4.53514739e-05   6.80272109e-05\n",
      "   9.07029478e-05]\n"
     ]
    }
   ],
   "source": [
    "timeArray = arange(0, len(sample), 1) # with steps of 1000\n",
    "timeArray = timeArray / sampFreq \n",
    "print(timeArray[0:5,]) #Divide by the sample frequency to give the correct itme in miliseconds\n",
    "timeArray = timeArray * 1000  #scale to seconds"
   ]
  },
  {
   "cell_type": "code",
   "execution_count": 103,
   "metadata": {
    "collapsed": false
   },
   "outputs": [
    {
     "data": {
      "text/plain": [
       "[<matplotlib.lines.Line2D at 0x1234b77b8>]"
      ]
     },
     "execution_count": 103,
     "metadata": {},
     "output_type": "execute_result"
    },
    {
     "data": {
      "image/png": "[encoded data removed]",
      "text/plain": [
       "<matplotlib.figure.Figure at 0x11190a588>"
      ]
     },
     "metadata": {},
     "output_type": "display_data"
    }
   ],
   "source": [
    "plt.plot(timeArray, ch1, color='r') #x=time y=ch1 which is channel 1"
   ]
  },
  {
   "cell_type": "code",
   "execution_count": 105,
   "metadata": {
    "collapsed": true
   },
   "outputs": [],
   "source": [
    "#So we've plotted the values. Now we neeed to do some form of classification. \n",
    "#To generate this, we create our own training and test set. \n",
    "#First, we generate a single interference instance using google hangouts for ~5 mintues. \n",
    "#We then then randomly sample 10 seconds from the 5 minutes.\n",
    "#Each sample then input a random noise variant using one of three different methods. "
   ]
  },
  {
   "cell_type": "code",
   "execution_count": null,
   "metadata": {
    "collapsed": false
   },
   "outputs": [],
   "source": [
    "# Generate Training Data introducing Random Noise Factor\n",
    "def generateTrainingData():\n",
    "    \n",
    "    print('Generating Training Data')\n",
    "\n",
    "    basedir='basedir'\n",
    "    basefile = readBaseTrainingFiles(basedir)\n",
    "    \n",
    "    count = 0\n",
    "    iterations = 5 # the amount of sample files to be generate from each base file\n",
    "    \n",
    "    while (count < iterations):\n",
    "        sample = sampleFile(basefile)\n",
    "        sample = randomNoiseGenerator(sample)\n",
    "        \n",
    "        outdir = basedir + str(count)\n",
    "        writeSample(sample, outdir)\n",
    "\n",
    "def readBaseTrainingFiles(basedir):\n",
    "    print('reading basedir training files')\n",
    "\n",
    "def sampleFile(basefile):\n",
    "    print('Randomly Sampling File from BaseFile')\n",
    "    return 0\n",
    "\n",
    "def writeSample(sample, outdir):\n",
    "    print('Writing Sample to ', outdir)\n",
    "    "
   ]
  },
  {
   "cell_type": "code",
   "execution_count": 129,
   "metadata": {
    "collapsed": false
   },
   "outputs": [],
   "source": [
    "#Generate White Noise\n",
    "def noise1(array): \n",
    "    mean = 0\n",
    "    std = 1 \n",
    "    num_samples = 1000\n",
    "    samples = numpy.random.normal(mean, std, size=num_samples)\n",
    "    print('Adding white noise to the sample set')\n",
    "    return array\n",
    "\n",
    "#Generating Noise Using http://stackoverflow.com/questions/33933842/how-to-generate-noise-in-frequency-range-with-numpy\n",
    "def noise2(array):\n",
    "    return band_limitd_noise(array)\n",
    "\n",
    "def fftnoise(f):\n",
    "    f = np.array(f, dtype='complex')\n",
    "    Np = (len(f) - 1) // 2\n",
    "    phases = np.random.rand(Np) * 2 * np.pi\n",
    "    phases = np.cos(phases) + 1j * np.sin(phases)\n",
    "    f[1:Np+1] *= phases\n",
    "    f[-1:-1-Np:-1] = np.conj(f[1:Np+1])\n",
    "    return np.fft.ifft(f).real\n",
    "\n",
    "def band_limited_noise(min_freq, max_freq, samples=1024, samplerate=1):\n",
    "    freqs = np.abs(np.fft.fftfreq(samples, 1/samplerate))\n",
    "    f = np.zeros(samples)\n",
    "    idx = np.where(np.logical_and(freqs>=min_freq, freqs<=max_freq))[0]\n",
    "    f[idx] = 1\n",
    "    return fftnoise(f)\n",
    "\n",
    "def randomNoiseGenerator(sample):\n",
    "    r = random.randint(0, 3)\n",
    "    if r == 0:\n",
    "        return noise1(sample)\n",
    "    if r == 1:\n",
    "        return band_limited_noise(sample)\n",
    "    else:\n",
    "        return sample\n"
   ]
  },
  {
   "cell_type": "code",
   "execution_count": null,
   "metadata": {
    "collapsed": false
   },
   "outputs": [],
   "source": [
    "generateTrainingData()"
   ]
  },
  {
   "cell_type": "code",
   "execution_count": null,
   "metadata": {
    "collapsed": true
   },
   "outputs": [],
   "source": []
  }
 ],
 "metadata": {
  "anaconda-cloud": {},
  "kernelspec": {
   "display_name": "Python [default]",
   "language": "python",
   "name": "python3"
  },
  "language_info": {
   "codemirror_mode": {
    "name": "ipython",
    "version": 3
   },
   "file_extension": ".py",
   "mimetype": "text/x-python",
   "name": "python",
   "nbconvert_exporter": "python",
   "pygments_lexer": "ipython3",
   "version": "3.5.2"
  }
 },
 "nbformat": 4,
 "nbformat_minor": 1
}
