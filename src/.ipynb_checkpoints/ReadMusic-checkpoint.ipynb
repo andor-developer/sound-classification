{
 "cells": [
  {
   "cell_type": "markdown",
   "metadata": {},
   "source": [
    "# Detecting Sound Interference with Tensorflow for Hangout Sessions\n",
    "\n",
    "In this analysis, we look at sound interference from multiple hangout streams using google hangout. We train and test the data using a neural network.\n",
    "The goal of this network is to give Google the functionality to enable a \"mute\" action is multiple audio streams occur on the hangouts at the same time. Frequently, when my colleagues and myself use hangouts, we log in at the same time with our computer. The problem is that multiple microphones on at the same time create an issue with loud feedback loops that greatly disrupt a meeting. Furthermore, often it is difficult to determine which of the incoming channels is responsible for disturbing the audio system. \n",
    "We are not audio processing experts, but hope that this simple neural network may provide enough of a baseline to accurately detect multiple audio feedback loops. It would be our hope that it would enable an \"action\" on Google's side, to mute the interefering audio system and prompt a warning. "
   ]
  },
  {
   "cell_type": "markdown",
   "metadata": {},
   "source": [
    "Which type of Classifier do we use? SVM or NN?"
   ]
  },
  {
   "cell_type": "markdown",
   "metadata": {},
   "source": [
    "So we've plotted the values. Now we neeed to do some form of classification. \n",
    "To generate this, we create our own training and test set. \n",
    "First, we generate a single interference instance using google hangouts for ~5 mintues. \n",
    "We then then randomly sample 10 seconds from the 5 minutes.\n",
    "Each sample then input a random noise variant using one of three different methods. "
   ]
  },
  {
   "cell_type": "markdown",
   "metadata": {},
   "source": [
    "# Import and Setup"
   ]
  },
  {
   "cell_type": "code",
   "execution_count": 37,
   "metadata": {
    "collapsed": false
   },
   "outputs": [],
   "source": [
    "from pylab import*\n",
    "from scipy.io import wavfile\n",
    "import matplotlib\n",
    "import matplotlib.pyplot as plt\n",
    "import random\n",
    "import os\n",
    "from os import listdir\n",
    "from os.path import isfile, join"
   ]
  },
  {
   "cell_type": "code",
   "execution_count": 106,
   "metadata": {
    "collapsed": true
   },
   "outputs": [],
   "source": [
    "#Define Paths\n",
    "basedir = '/Users/andorkesselman/Documents/rnd/sound/src/'\n",
    "dataset_dir = basedir + 'datasets/'\n",
    "inter_dir_base = dataset_dir + 'base/interference_audio'\n",
    "clean_dir_base = dataset_dir + 'base/clean_audio'\n",
    "inter_dir_gen = dataset_dir + 'generated/interference_audio'\n",
    "clean_dir_gen = dataset_dir + 'generated/clean_audio'\n"
   ]
  },
  {
   "cell_type": "markdown",
   "metadata": {},
   "source": [
    "# Dataset Generation"
   ]
  },
  {
   "cell_type": "code",
   "execution_count": 136,
   "metadata": {
    "collapsed": false
   },
   "outputs": [
    {
     "name": "stdout",
     "output_type": "stream",
     "text": [
      "Generating Interference Training Data\n",
      "Reading /Users/andorkesselman/Documents/rnd/sound/src/datasets/base/clean_audio/1_clean.wav\n",
      "Adding white noise to the sample set\n"
     ]
    }
   ],
   "source": [
    "# Generate Inteference Data introducing Random Noise Factor\n",
    "# Interference Samples Come from a Few Samples Created in Personal Setting.Initial training set is very small. \n",
    "\n",
    "def generateInterferenceSamples():\n",
    "    \n",
    "    print('Generating Interference Training Data')\n",
    "    audio_files = listFilesInDirectory(clean_dir_base)\n",
    "    count = 0\n",
    "    iterations_per_file = 5 # the amount of sample files to be generate from each base file\n",
    "    \n",
    "    for file in audio_files:\n",
    "        wav = readWavFile(file)\n",
    "        while (count < iterations_per_file):\n",
    "            sample = sampleFile(wav)\n",
    "            sample = randomNoiseGenerator(sample)\n",
    "            writeSample(sample, join(inter_dir_gen + str(count) + \"_inter.wav\"))\n",
    "            count+=1\n",
    "                        \n",
    "#Only store the name. Do not store the file, as that would remain in memory.\n",
    "def listFilesInDirectory(directory):\n",
    "    ret = []\n",
    "    for file in listdir(directory):\n",
    "            ret.append(join(directory, file))\n",
    "    return ret\n",
    "\n",
    "# Randomly Returns a Sample of a File. TODO: Improve Sampling Method. \n",
    "# Must Remain a Sequence in this Case because Audio is time dependent. Randomly Sampling would be BAD.\n",
    "def sampleFile(wav):\n",
    "    #take random \n",
    "    size = int(len(wav) / 5) # take 1/5 of the full file size. TODO: What's the best implemenation?\n",
    "    i = int(len(wav) - size - 1)\n",
    "    r = random.randint(0, i) # make sure that we get a full set. Hence the - size\n",
    "    return wav[r:(r+size), ]\n",
    "\n",
    "def writeSample(sample, outdir):\n",
    "    wavfile.write(outdir, 44100, sample)\n",
    "\n",
    "generateInterferenceSamples()\n"
   ]
  },
  {
   "cell_type": "code",
   "execution_count": 124,
   "metadata": {
    "collapsed": true
   },
   "outputs": [],
   "source": [
    "#Generate NonInteferenceSamples\n",
    "#Download conversations from audio podcasts and use them for training data. Introduct Random Noise. \n",
    "\n",
    "def generateNonInteferenceSamples():\n",
    "    \n",
    "    print('Generating Non Interference Samples')\n",
    "    \n",
    "    basedir='basedir'\n",
    "    basefile = readBaseTrainingFiles(basedir)\n",
    "    \n",
    "    count = 0\n",
    "    iterations = 5 # the amount of sample files to be generate from each base file\n",
    "    \n",
    "    #read each file, create samples off the file, and introduce random noise. \n",
    "    \n",
    "    while (count < iterations):\n",
    "        sample = sampleFile(basefile)\n",
    "        sample = randomNoiseGenerator(sample)\n",
    "        \n",
    "        outdir = basedir + str(count)\n",
    "        writeSample(sample, outdir)\n",
    "    "
   ]
  },
  {
   "cell_type": "code",
   "execution_count": 128,
   "metadata": {
    "collapsed": false
   },
   "outputs": [],
   "source": [
    "#Generate White Noise\n",
    "def noise1(array): \n",
    "    mean = 0\n",
    "    std = 1 \n",
    "    num_samples = 1000\n",
    "    samples = np.random.normal(mean, std, size=num_samples)\n",
    "    print('Adding white noise to the sample set')\n",
    "    return array\n",
    "\n",
    "#Generating Noise Using http://stackoverflow.com/questions/33933842/how-to-generate-noise-in-frequency-range-with-numpy\n",
    "def noise2(array):\n",
    "    return band_limitd_noise(array)\n",
    "\n",
    "def fftnoise(f):\n",
    "    f = np.array(f, dtype='complex')\n",
    "    Np = (len(f) - 1) // 2\n",
    "    phases = np.random.rand(Np) * 2 * np.pi\n",
    "    phases = np.cos(phases) + 1j * np.sin(phases)\n",
    "    f[1:Np+1] *= phases\n",
    "    f[-1:-1-Np:-1] = np.conj(f[1:Np+1])\n",
    "    return np.fft.ifft(f).real\n",
    "\n",
    "def band_limited_noise(min_freq, max_freq, samples=sampleFreq, samplerate=1):\n",
    "    freqs = np.abs(np.fft.fftfreq(samples, 1/samplerate))\n",
    "    f = np.zeros(samples)\n",
    "    idx = np.where(np.logical_and(freqs>=min_freq, freqs<=max_freq))[0]\n",
    "    f[idx] = 1\n",
    "    return fftnoise(f)\n",
    "\n",
    "def randomNoiseGenerator(sample):\n",
    "    r = random.randint(0, 3)\n",
    "    if r == 0:\n",
    "        return noise1(sample)\n",
    "    if r == 1:\n",
    "        x = band_limited_noise(200, 2000, 44100, 44100)\n",
    "        x = np.int16(x * (2**15 - 1))\n",
    "        return x\n",
    "    else:\n",
    "        return sample\n",
    "    \n",
    "def readWavFile(wavfile_location):\n",
    "    print(\"Reading \" + wavfile_location)\n",
    "    sampleFreq, sample = wavfile.read(wavfile_location)\n",
    "    sample = sample / (2.**15) #normalize and center\n",
    "    ch1 = sample[:,0] #take one channel. There are two channels in this scenario\n",
    "    return ch1"
   ]
  }
 ],
 "metadata": {
  "anaconda-cloud": {},
  "kernelspec": {
   "display_name": "Python [default]",
   "language": "python",
   "name": "python3"
  },
  "language_info": {
   "codemirror_mode": {
    "name": "ipython",
    "version": 3
   },
   "file_extension": ".py",
   "mimetype": "text/x-python",
   "name": "python",
   "nbconvert_exporter": "python",
   "pygments_lexer": "ipython3",
   "version": "3.5.2"
  }
 },
 "nbformat": 4,
 "nbformat_minor": 1
}
